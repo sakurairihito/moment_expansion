{
 "cells": [
  {
   "cell_type": "code",
   "execution_count": null,
   "metadata": {},
   "outputs": [],
   "source": [
    "using Plots\n",
    "using QuadGK\n",
    "using LinearAlgebra"
   ]
  },
  {
   "cell_type": "code",
   "execution_count": null,
   "metadata": {},
   "outputs": [],
   "source": [
    "aomega(omega) = exp(-0.5 * omega^2)/sqrt(2*π)"
   ]
  },
  {
   "cell_type": "code",
   "execution_count": null,
   "metadata": {},
   "outputs": [],
   "source": [
    "wmax = 10\n",
    "omegas = LinRange(-wmax, wmax, 1000)\n",
    "plot(omegas, aomega.(omegas))"
   ]
  },
  {
   "cell_type": "code",
   "execution_count": null,
   "metadata": {},
   "outputs": [],
   "source": [
    "nmom = 10\n",
    "Tp = Float64[]\n",
    "for mom in 0:(nmom-1)\n",
    "    push!(Tp, quadgk(x -> (x^mom) * aomega(x), 0, wmax)[1])\n",
    "end\n",
    "Tp"
   ]
  },
  {
   "cell_type": "markdown",
   "metadata": {},
   "source": [
    "$$\n",
    "T^{(n)}_p = (-1)^{n+1} \\frac{d^n G(\\tau)}{d\\tau^n} \\mid_{\\tau=0^+}\n",
    "$$\n",
    "\n",
    "$$\n",
    "S_n = T[0]^{-1/2} T[n] T[0]^{-1/2}\n",
    "$$"
   ]
  },
  {
   "cell_type": "code",
   "execution_count": null,
   "metadata": {},
   "outputs": [],
   "source": [
    "function reconst(T)\n",
    "    nmom = length(T)\n",
    "    S = (1/sqrt(T[1])) * T * (1/sqrt(T[1]))\n",
    "    println(S)\n",
    "\n",
    "    As = Dict{Int,ComplexF64}()\n",
    "    Bs = Dict{Int,ComplexF64}()\n",
    "    Cs = Dict{Tuple{Int,Int},ComplexF64}()\n",
    "\n",
    "    # Initial values\n",
    "    As[0] = S[2]\n",
    "    Bs[0] = 0.0\n",
    "    Cs[0,0] = 1.0\n",
    "\n",
    "    function get_S(i)\n",
    "        i <= nmom-1 ? S[i+1] : 0.0\n",
    "    end\n",
    "    \n",
    "    function get_Cs(n, j)::ComplexF64\n",
    "        if j < 0 || j > n || n < 0\n",
    "            return 0.0\n",
    "        end\n",
    "        return Cs[(n, j)]\n",
    "    end\n",
    "\n",
    "    for n in 0:nmom\n",
    "        #println(\"n = $n\")\n",
    "        # Update B[n+1]\n",
    "        bfirst = sum(conj(Cs[n,l]) * get_S(j+l+1) * get_Cs(n, j-1) for j in 0:(n+1), l in 0:n)\n",
    "        Bs[n+1] = sqrt(bfirst  - As[n]^2  - conj(Bs[n]^2))\n",
    "\n",
    "        # C(n+1, j) for j = 0, ..., n+1 (otherwise 0)\n",
    "        for j in 0:(n+1)\n",
    "            Cs[(n+1, j)] = (get_Cs(n, j-1) - get_Cs(n, j) * As[n] - get_Cs(n-1, j) * conj(Bs[n])) / Bs[n+1]\n",
    "        end\n",
    "\n",
    "        # Update A[n+1]\n",
    "        As[n+1] = sum(conj(get_Cs(n+1, l) * get_S(j+l+1) * get_Cs(n+1, j)) for j in 0:(n+1), l in 0:(n+1))\n",
    "\n",
    "        if length(As) >= (nmom + 1) ÷ 2\n",
    "            break\n",
    "        end\n",
    "    end\n",
    "    return  As, Bs\n",
    "end\n",
    "\n",
    "As, Bs = reconst(Tp)"
   ]
  },
  {
   "cell_type": "code",
   "execution_count": null,
   "metadata": {},
   "outputs": [],
   "source": [
    "nc = length(As)\n",
    "htri = zeros(ComplexF64, nc, nc)\n",
    "for i in 1:nc\n",
    "    htri[i, i] = As[i-1]\n",
    "end\n",
    "for i in 1:(nc-1)\n",
    "    htri[i, i+1] = Bs[i]\n",
    "    htri[i+1, i] = conj(Bs[i])\n",
    "end\n",
    "\n",
    "htri"
   ]
  },
  {
   "cell_type": "code",
   "execution_count": null,
   "metadata": {},
   "outputs": [],
   "source": [
    "e = eigen(Hermitian(htri))"
   ]
  },
  {
   "cell_type": "code",
   "execution_count": null,
   "metadata": {},
   "outputs": [],
   "source": [
    "weight = real.(conj.(e.vectors[1, :]) .* e.vectors[1, :])"
   ]
  },
  {
   "cell_type": "code",
   "execution_count": null,
   "metadata": {},
   "outputs": [],
   "source": [
    "sum(weight)"
   ]
  },
  {
   "cell_type": "code",
   "execution_count": null,
   "metadata": {},
   "outputs": [],
   "source": [
    "δ = 0.2\n",
    "gaussian(x, μ) = exp(-0.5 * ((x-μ)/δ)^2)/(sqrt(2π) * δ)\n",
    "aomega_reconst = zeros(Float64, length(omegas))\n",
    "for ie in eachindex(e.values)\n",
    "    aomega_reconst .+= gaussian.(omegas, e.values[ie]) * weight[ie]\n",
    "end\n",
    "p = plot(xlim=(-wmax, wmax))\n",
    "plot!(p, omegas, 0.5 * (aomega_reconst + reverse(aomega_reconst)), xlim=(-wmax, wmax), marker=:x)\n",
    "plot!(p, omegas, aomega.(omegas))"
   ]
  },
  {
   "cell_type": "code",
   "execution_count": null,
   "metadata": {},
   "outputs": [],
   "source": []
  }
 ],
 "metadata": {
  "kernelspec": {
   "display_name": "Julia 1.7.2",
   "language": "julia",
   "name": "julia-1.7"
  },
  "language_info": {
   "file_extension": ".jl",
   "mimetype": "application/julia",
   "name": "julia",
   "version": "1.7.2"
  },
  "orig_nbformat": 4
 },
 "nbformat": 4,
 "nbformat_minor": 2
}
